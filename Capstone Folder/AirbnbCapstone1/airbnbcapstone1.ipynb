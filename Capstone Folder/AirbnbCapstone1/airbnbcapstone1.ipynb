{
  "nbformat": 4,
  "nbformat_minor": 0,
  "metadata": {
    "colab": {
      "provenance": []
    },
    "kernelspec": {
      "name": "python3",
      "display_name": "Python 3"
    },
    "language_info": {
      "name": "python"
    }
  },
  "cells": [
    {
      "cell_type": "markdown",
      "source": [
        "Writing a research proposal!"
      ],
      "metadata": {
        "id": "EedFScXqg2ds"
      }
    },
    {
      "cell_type": "markdown",
      "source": [
        "Question 1\n",
        "This dataset represents airbnb locations in the city of London and contains a number of interesting variables that I felt would be useful to predict airbnb prices. To go further I want to help the audience where good affordable locations would be in the city of London."
      ],
      "metadata": {
        "id": "0-_6TqyoYcMI"
      }
    },
    {
      "cell_type": "markdown",
      "source": [
        "Question 2\n",
        "Link to Dataset\n",
        "https://www.kaggle.com/datasets/thedevastator/airbnb-prices-in-european-cities\n"
      ],
      "metadata": {
        "id": "pP2sAYXzLTMD"
      }
    },
    {
      "cell_type": "markdown",
      "source": [
        "Question 3\n",
        "For this research question I would like to observe the average or median price of airbnb stays based on the distance from the city center in the city of London and to determine the price based on how far or how close someone should stay at an airbnb."
      ],
      "metadata": {
        "id": "pMtmXiLcZ8uR"
      }
    },
    {
      "cell_type": "markdown",
      "source": [
        "Question 4 - Question 5\n",
        "I plan to test the real sum price of an airbnb by dividing the distance from the city center of London into three groups.\n",
        "Group 1: 0 to 3 km\n",
        "Group 2: 3 to 6 km\n",
        "Group 3: 6 to 9 km\n",
        "I plan to perform a non-paramteric kruskal-wallis test."
      ],
      "metadata": {
        "id": "Pwj7oNDuah3p"
      }
    },
    {
      "cell_type": "markdown",
      "source": [
        "Question 6 - Question 7\n",
        "This proposal will be of interest to people who plan to travel to London and are looking for a way to save money and be on a budget.\n",
        "This proposal should not be applied to other locations in the world because different places in the world may very on location."
      ],
      "metadata": {
        "id": "hXi23WKfbdij"
      }
    },
    {
      "cell_type": "code",
      "execution_count": 1,
      "metadata": {
        "id": "aS_2CFKxJpAT"
      },
      "outputs": [],
      "source": [
        "import pandas as pd\n",
        "import numpy as np\n",
        "from scipy import stats\n",
        "import matplotlib.pyplot as plt\n",
        "import seaborn as sns\n",
        "import math"
      ]
    },
    {
      "cell_type": "markdown",
      "source": [
        "Running Analysis and results!"
      ],
      "metadata": {
        "id": "iaewKXn9g8NK"
      }
    },
    {
      "cell_type": "markdown",
      "source": [
        "Perform data cleansing by merging weekend and weekday prices of airbnb locations as well as separating the distance variable into 3 groups that will be used to test the difference in prices."
      ],
      "metadata": {
        "id": "agiCthISgbdv"
      }
    },
    {
      "cell_type": "code",
      "source": [
        "df_weekdays = pd.read_csv('/content/airbnb_london_weekdays.csv')\n",
        "df_weekends = pd.read_csv('/content/airbnb_london_weekends.csv')\n",
        "\n",
        "frames = [df_weekdays, df_weekends]\n",
        "df = pd.concat(frames)\n",
        "\n",
        "df.info()\n",
        "df.head()"
      ],
      "metadata": {
        "colab": {
          "base_uri": "https://localhost:8080/",
          "height": 799
        },
        "id": "5i-ThewZJzd7",
        "outputId": "2f5bd742-8082-4539-c3df-5fc501cb8fed"
      },
      "execution_count": 2,
      "outputs": [
        {
          "output_type": "stream",
          "name": "stdout",
          "text": [
            "<class 'pandas.core.frame.DataFrame'>\n",
            "Int64Index: 9993 entries, 0 to 5378\n",
            "Data columns (total 20 columns):\n",
            " #   Column                      Non-Null Count  Dtype  \n",
            "---  ------                      --------------  -----  \n",
            " 0   Unnamed: 0                  9993 non-null   int64  \n",
            " 1   realSum                     9993 non-null   float64\n",
            " 2   room_type                   9993 non-null   object \n",
            " 3   room_shared                 9993 non-null   bool   \n",
            " 4   room_private                9993 non-null   bool   \n",
            " 5   person_capacity             9993 non-null   float64\n",
            " 6   host_is_superhost           9993 non-null   bool   \n",
            " 7   multi                       9993 non-null   int64  \n",
            " 8   biz                         9993 non-null   int64  \n",
            " 9   cleanliness_rating          9993 non-null   float64\n",
            " 10  guest_satisfaction_overall  9993 non-null   float64\n",
            " 11  bedrooms                    9993 non-null   int64  \n",
            " 12  dist                        9993 non-null   float64\n",
            " 13  metro_dist                  9993 non-null   float64\n",
            " 14  attr_index                  9993 non-null   float64\n",
            " 15  attr_index_norm             9993 non-null   float64\n",
            " 16  rest_index                  9993 non-null   float64\n",
            " 17  rest_index_norm             9993 non-null   float64\n",
            " 18  lng                         9993 non-null   float64\n",
            " 19  lat                         9993 non-null   float64\n",
            "dtypes: bool(3), float64(12), int64(4), object(1)\n",
            "memory usage: 1.4+ MB\n"
          ]
        },
        {
          "output_type": "execute_result",
          "data": {
            "text/plain": [
              "   Unnamed: 0     realSum        room_type  room_shared  room_private  \\\n",
              "0           0  570.098074  Entire home/apt        False         False   \n",
              "1           1  297.984430     Private room        False          True   \n",
              "2           2  336.790611     Private room        False          True   \n",
              "3           3  226.722171     Private room        False          True   \n",
              "4           4  256.355982     Private room        False          True   \n",
              "\n",
              "   person_capacity  host_is_superhost  multi  biz  cleanliness_rating  \\\n",
              "0              2.0              False      0    0                10.0   \n",
              "1              2.0               True      1    0                10.0   \n",
              "2              2.0              False      1    0                10.0   \n",
              "3              2.0               True      1    0                10.0   \n",
              "4              3.0              False      0    0                 9.0   \n",
              "\n",
              "   guest_satisfaction_overall  bedrooms      dist  metro_dist  attr_index  \\\n",
              "0                        98.0         1  5.301018    1.588990  209.632578   \n",
              "1                        99.0         1  2.198946    0.379262  553.891744   \n",
              "2                        96.0         1  2.322958    0.453178  428.287849   \n",
              "3                        99.0         1  5.707825    1.723977  195.694744   \n",
              "4                        98.0         1  3.257945    0.825417  329.477068   \n",
              "\n",
              "   attr_index_norm  rest_index  rest_index_norm      lng       lat  \n",
              "0        14.571793  467.597522         8.372724 -0.16032  51.46531  \n",
              "1        38.501630  961.472137        17.215961 -0.09683  51.50343  \n",
              "2        29.770764  959.042839        17.172462 -0.10554  51.52407  \n",
              "3        13.602959  452.232472         8.097600 -0.16575  51.46292  \n",
              "4        22.902317  735.327280        13.166649 -0.12055  51.53728  "
            ],
            "text/html": [
              "\n",
              "  <div id=\"df-d48f6f34-747b-40fa-8dbd-41acf0a2ee9d\" class=\"colab-df-container\">\n",
              "    <div>\n",
              "<style scoped>\n",
              "    .dataframe tbody tr th:only-of-type {\n",
              "        vertical-align: middle;\n",
              "    }\n",
              "\n",
              "    .dataframe tbody tr th {\n",
              "        vertical-align: top;\n",
              "    }\n",
              "\n",
              "    .dataframe thead th {\n",
              "        text-align: right;\n",
              "    }\n",
              "</style>\n",
              "<table border=\"1\" class=\"dataframe\">\n",
              "  <thead>\n",
              "    <tr style=\"text-align: right;\">\n",
              "      <th></th>\n",
              "      <th>Unnamed: 0</th>\n",
              "      <th>realSum</th>\n",
              "      <th>room_type</th>\n",
              "      <th>room_shared</th>\n",
              "      <th>room_private</th>\n",
              "      <th>person_capacity</th>\n",
              "      <th>host_is_superhost</th>\n",
              "      <th>multi</th>\n",
              "      <th>biz</th>\n",
              "      <th>cleanliness_rating</th>\n",
              "      <th>guest_satisfaction_overall</th>\n",
              "      <th>bedrooms</th>\n",
              "      <th>dist</th>\n",
              "      <th>metro_dist</th>\n",
              "      <th>attr_index</th>\n",
              "      <th>attr_index_norm</th>\n",
              "      <th>rest_index</th>\n",
              "      <th>rest_index_norm</th>\n",
              "      <th>lng</th>\n",
              "      <th>lat</th>\n",
              "    </tr>\n",
              "  </thead>\n",
              "  <tbody>\n",
              "    <tr>\n",
              "      <th>0</th>\n",
              "      <td>0</td>\n",
              "      <td>570.098074</td>\n",
              "      <td>Entire home/apt</td>\n",
              "      <td>False</td>\n",
              "      <td>False</td>\n",
              "      <td>2.0</td>\n",
              "      <td>False</td>\n",
              "      <td>0</td>\n",
              "      <td>0</td>\n",
              "      <td>10.0</td>\n",
              "      <td>98.0</td>\n",
              "      <td>1</td>\n",
              "      <td>5.301018</td>\n",
              "      <td>1.588990</td>\n",
              "      <td>209.632578</td>\n",
              "      <td>14.571793</td>\n",
              "      <td>467.597522</td>\n",
              "      <td>8.372724</td>\n",
              "      <td>-0.16032</td>\n",
              "      <td>51.46531</td>\n",
              "    </tr>\n",
              "    <tr>\n",
              "      <th>1</th>\n",
              "      <td>1</td>\n",
              "      <td>297.984430</td>\n",
              "      <td>Private room</td>\n",
              "      <td>False</td>\n",
              "      <td>True</td>\n",
              "      <td>2.0</td>\n",
              "      <td>True</td>\n",
              "      <td>1</td>\n",
              "      <td>0</td>\n",
              "      <td>10.0</td>\n",
              "      <td>99.0</td>\n",
              "      <td>1</td>\n",
              "      <td>2.198946</td>\n",
              "      <td>0.379262</td>\n",
              "      <td>553.891744</td>\n",
              "      <td>38.501630</td>\n",
              "      <td>961.472137</td>\n",
              "      <td>17.215961</td>\n",
              "      <td>-0.09683</td>\n",
              "      <td>51.50343</td>\n",
              "    </tr>\n",
              "    <tr>\n",
              "      <th>2</th>\n",
              "      <td>2</td>\n",
              "      <td>336.790611</td>\n",
              "      <td>Private room</td>\n",
              "      <td>False</td>\n",
              "      <td>True</td>\n",
              "      <td>2.0</td>\n",
              "      <td>False</td>\n",
              "      <td>1</td>\n",
              "      <td>0</td>\n",
              "      <td>10.0</td>\n",
              "      <td>96.0</td>\n",
              "      <td>1</td>\n",
              "      <td>2.322958</td>\n",
              "      <td>0.453178</td>\n",
              "      <td>428.287849</td>\n",
              "      <td>29.770764</td>\n",
              "      <td>959.042839</td>\n",
              "      <td>17.172462</td>\n",
              "      <td>-0.10554</td>\n",
              "      <td>51.52407</td>\n",
              "    </tr>\n",
              "    <tr>\n",
              "      <th>3</th>\n",
              "      <td>3</td>\n",
              "      <td>226.722171</td>\n",
              "      <td>Private room</td>\n",
              "      <td>False</td>\n",
              "      <td>True</td>\n",
              "      <td>2.0</td>\n",
              "      <td>True</td>\n",
              "      <td>1</td>\n",
              "      <td>0</td>\n",
              "      <td>10.0</td>\n",
              "      <td>99.0</td>\n",
              "      <td>1</td>\n",
              "      <td>5.707825</td>\n",
              "      <td>1.723977</td>\n",
              "      <td>195.694744</td>\n",
              "      <td>13.602959</td>\n",
              "      <td>452.232472</td>\n",
              "      <td>8.097600</td>\n",
              "      <td>-0.16575</td>\n",
              "      <td>51.46292</td>\n",
              "    </tr>\n",
              "    <tr>\n",
              "      <th>4</th>\n",
              "      <td>4</td>\n",
              "      <td>256.355982</td>\n",
              "      <td>Private room</td>\n",
              "      <td>False</td>\n",
              "      <td>True</td>\n",
              "      <td>3.0</td>\n",
              "      <td>False</td>\n",
              "      <td>0</td>\n",
              "      <td>0</td>\n",
              "      <td>9.0</td>\n",
              "      <td>98.0</td>\n",
              "      <td>1</td>\n",
              "      <td>3.257945</td>\n",
              "      <td>0.825417</td>\n",
              "      <td>329.477068</td>\n",
              "      <td>22.902317</td>\n",
              "      <td>735.327280</td>\n",
              "      <td>13.166649</td>\n",
              "      <td>-0.12055</td>\n",
              "      <td>51.53728</td>\n",
              "    </tr>\n",
              "  </tbody>\n",
              "</table>\n",
              "</div>\n",
              "    <div class=\"colab-df-buttons\">\n",
              "\n",
              "  <div class=\"colab-df-container\">\n",
              "    <button class=\"colab-df-convert\" onclick=\"convertToInteractive('df-d48f6f34-747b-40fa-8dbd-41acf0a2ee9d')\"\n",
              "            title=\"Convert this dataframe to an interactive table.\"\n",
              "            style=\"display:none;\">\n",
              "\n",
              "  <svg xmlns=\"http://www.w3.org/2000/svg\" height=\"24px\" viewBox=\"0 -960 960 960\">\n",
              "    <path d=\"M120-120v-720h720v720H120Zm60-500h600v-160H180v160Zm220 220h160v-160H400v160Zm0 220h160v-160H400v160ZM180-400h160v-160H180v160Zm440 0h160v-160H620v160ZM180-180h160v-160H180v160Zm440 0h160v-160H620v160Z\"/>\n",
              "  </svg>\n",
              "    </button>\n",
              "\n",
              "  <style>\n",
              "    .colab-df-container {\n",
              "      display:flex;\n",
              "      gap: 12px;\n",
              "    }\n",
              "\n",
              "    .colab-df-convert {\n",
              "      background-color: #E8F0FE;\n",
              "      border: none;\n",
              "      border-radius: 50%;\n",
              "      cursor: pointer;\n",
              "      display: none;\n",
              "      fill: #1967D2;\n",
              "      height: 32px;\n",
              "      padding: 0 0 0 0;\n",
              "      width: 32px;\n",
              "    }\n",
              "\n",
              "    .colab-df-convert:hover {\n",
              "      background-color: #E2EBFA;\n",
              "      box-shadow: 0px 1px 2px rgba(60, 64, 67, 0.3), 0px 1px 3px 1px rgba(60, 64, 67, 0.15);\n",
              "      fill: #174EA6;\n",
              "    }\n",
              "\n",
              "    .colab-df-buttons div {\n",
              "      margin-bottom: 4px;\n",
              "    }\n",
              "\n",
              "    [theme=dark] .colab-df-convert {\n",
              "      background-color: #3B4455;\n",
              "      fill: #D2E3FC;\n",
              "    }\n",
              "\n",
              "    [theme=dark] .colab-df-convert:hover {\n",
              "      background-color: #434B5C;\n",
              "      box-shadow: 0px 1px 3px 1px rgba(0, 0, 0, 0.15);\n",
              "      filter: drop-shadow(0px 1px 2px rgba(0, 0, 0, 0.3));\n",
              "      fill: #FFFFFF;\n",
              "    }\n",
              "  </style>\n",
              "\n",
              "    <script>\n",
              "      const buttonEl =\n",
              "        document.querySelector('#df-d48f6f34-747b-40fa-8dbd-41acf0a2ee9d button.colab-df-convert');\n",
              "      buttonEl.style.display =\n",
              "        google.colab.kernel.accessAllowed ? 'block' : 'none';\n",
              "\n",
              "      async function convertToInteractive(key) {\n",
              "        const element = document.querySelector('#df-d48f6f34-747b-40fa-8dbd-41acf0a2ee9d');\n",
              "        const dataTable =\n",
              "          await google.colab.kernel.invokeFunction('convertToInteractive',\n",
              "                                                    [key], {});\n",
              "        if (!dataTable) return;\n",
              "\n",
              "        const docLinkHtml = 'Like what you see? Visit the ' +\n",
              "          '<a target=\"_blank\" href=https://colab.research.google.com/notebooks/data_table.ipynb>data table notebook</a>'\n",
              "          + ' to learn more about interactive tables.';\n",
              "        element.innerHTML = '';\n",
              "        dataTable['output_type'] = 'display_data';\n",
              "        await google.colab.output.renderOutput(dataTable, element);\n",
              "        const docLink = document.createElement('div');\n",
              "        docLink.innerHTML = docLinkHtml;\n",
              "        element.appendChild(docLink);\n",
              "      }\n",
              "    </script>\n",
              "  </div>\n",
              "\n",
              "\n",
              "<div id=\"df-72af9496-b637-4c18-8a7d-33abaf60bb99\">\n",
              "  <button class=\"colab-df-quickchart\" onclick=\"quickchart('df-72af9496-b637-4c18-8a7d-33abaf60bb99')\"\n",
              "            title=\"Suggest charts.\"\n",
              "            style=\"display:none;\">\n",
              "\n",
              "<svg xmlns=\"http://www.w3.org/2000/svg\" height=\"24px\"viewBox=\"0 0 24 24\"\n",
              "     width=\"24px\">\n",
              "    <g>\n",
              "        <path d=\"M19 3H5c-1.1 0-2 .9-2 2v14c0 1.1.9 2 2 2h14c1.1 0 2-.9 2-2V5c0-1.1-.9-2-2-2zM9 17H7v-7h2v7zm4 0h-2V7h2v10zm4 0h-2v-4h2v4z\"/>\n",
              "    </g>\n",
              "</svg>\n",
              "  </button>\n",
              "\n",
              "<style>\n",
              "  .colab-df-quickchart {\n",
              "      --bg-color: #E8F0FE;\n",
              "      --fill-color: #1967D2;\n",
              "      --hover-bg-color: #E2EBFA;\n",
              "      --hover-fill-color: #174EA6;\n",
              "      --disabled-fill-color: #AAA;\n",
              "      --disabled-bg-color: #DDD;\n",
              "  }\n",
              "\n",
              "  [theme=dark] .colab-df-quickchart {\n",
              "      --bg-color: #3B4455;\n",
              "      --fill-color: #D2E3FC;\n",
              "      --hover-bg-color: #434B5C;\n",
              "      --hover-fill-color: #FFFFFF;\n",
              "      --disabled-bg-color: #3B4455;\n",
              "      --disabled-fill-color: #666;\n",
              "  }\n",
              "\n",
              "  .colab-df-quickchart {\n",
              "    background-color: var(--bg-color);\n",
              "    border: none;\n",
              "    border-radius: 50%;\n",
              "    cursor: pointer;\n",
              "    display: none;\n",
              "    fill: var(--fill-color);\n",
              "    height: 32px;\n",
              "    padding: 0;\n",
              "    width: 32px;\n",
              "  }\n",
              "\n",
              "  .colab-df-quickchart:hover {\n",
              "    background-color: var(--hover-bg-color);\n",
              "    box-shadow: 0 1px 2px rgba(60, 64, 67, 0.3), 0 1px 3px 1px rgba(60, 64, 67, 0.15);\n",
              "    fill: var(--button-hover-fill-color);\n",
              "  }\n",
              "\n",
              "  .colab-df-quickchart-complete:disabled,\n",
              "  .colab-df-quickchart-complete:disabled:hover {\n",
              "    background-color: var(--disabled-bg-color);\n",
              "    fill: var(--disabled-fill-color);\n",
              "    box-shadow: none;\n",
              "  }\n",
              "\n",
              "  .colab-df-spinner {\n",
              "    border: 2px solid var(--fill-color);\n",
              "    border-color: transparent;\n",
              "    border-bottom-color: var(--fill-color);\n",
              "    animation:\n",
              "      spin 1s steps(1) infinite;\n",
              "  }\n",
              "\n",
              "  @keyframes spin {\n",
              "    0% {\n",
              "      border-color: transparent;\n",
              "      border-bottom-color: var(--fill-color);\n",
              "      border-left-color: var(--fill-color);\n",
              "    }\n",
              "    20% {\n",
              "      border-color: transparent;\n",
              "      border-left-color: var(--fill-color);\n",
              "      border-top-color: var(--fill-color);\n",
              "    }\n",
              "    30% {\n",
              "      border-color: transparent;\n",
              "      border-left-color: var(--fill-color);\n",
              "      border-top-color: var(--fill-color);\n",
              "      border-right-color: var(--fill-color);\n",
              "    }\n",
              "    40% {\n",
              "      border-color: transparent;\n",
              "      border-right-color: var(--fill-color);\n",
              "      border-top-color: var(--fill-color);\n",
              "    }\n",
              "    60% {\n",
              "      border-color: transparent;\n",
              "      border-right-color: var(--fill-color);\n",
              "    }\n",
              "    80% {\n",
              "      border-color: transparent;\n",
              "      border-right-color: var(--fill-color);\n",
              "      border-bottom-color: var(--fill-color);\n",
              "    }\n",
              "    90% {\n",
              "      border-color: transparent;\n",
              "      border-bottom-color: var(--fill-color);\n",
              "    }\n",
              "  }\n",
              "</style>\n",
              "\n",
              "  <script>\n",
              "    async function quickchart(key) {\n",
              "      const quickchartButtonEl =\n",
              "        document.querySelector('#' + key + ' button');\n",
              "      quickchartButtonEl.disabled = true;  // To prevent multiple clicks.\n",
              "      quickchartButtonEl.classList.add('colab-df-spinner');\n",
              "      try {\n",
              "        const charts = await google.colab.kernel.invokeFunction(\n",
              "            'suggestCharts', [key], {});\n",
              "      } catch (error) {\n",
              "        console.error('Error during call to suggestCharts:', error);\n",
              "      }\n",
              "      quickchartButtonEl.classList.remove('colab-df-spinner');\n",
              "      quickchartButtonEl.classList.add('colab-df-quickchart-complete');\n",
              "    }\n",
              "    (() => {\n",
              "      let quickchartButtonEl =\n",
              "        document.querySelector('#df-72af9496-b637-4c18-8a7d-33abaf60bb99 button');\n",
              "      quickchartButtonEl.style.display =\n",
              "        google.colab.kernel.accessAllowed ? 'block' : 'none';\n",
              "    })();\n",
              "  </script>\n",
              "</div>\n",
              "    </div>\n",
              "  </div>\n"
            ]
          },
          "metadata": {},
          "execution_count": 2
        }
      ]
    },
    {
      "cell_type": "markdown",
      "source": [
        "Getting Derscriptive statistics for each variable.\n",
        "The variable of interest dist has an average dist of 5.3 and a min dist of 0.04 and a max of 17."
      ],
      "metadata": {
        "id": "dgGBqLYDNzR3"
      }
    },
    {
      "cell_type": "code",
      "source": [
        "df.describe()"
      ],
      "metadata": {
        "colab": {
          "base_uri": "https://localhost:8080/",
          "height": 320
        },
        "id": "ZyoRJDSIKJy7",
        "outputId": "7bf9f313-7d94-4839-ac12-e5dae90b99f8"
      },
      "execution_count": 3,
      "outputs": [
        {
          "output_type": "execute_result",
          "data": {
            "text/plain": [
              "        Unnamed: 0       realSum  person_capacity        multi          biz  \\\n",
              "count  9993.000000   9993.000000      9993.000000  9993.000000  9993.000000   \n",
              "mean   2512.390874    362.469256         2.846192     0.274992     0.387872   \n",
              "std    1467.505326    471.357265         1.246235     0.446533     0.487289   \n",
              "min       0.000000     54.328653         2.000000     0.000000     0.000000   \n",
              "25%    1249.000000    169.571250         2.000000     0.000000     0.000000   \n",
              "50%    2498.000000    261.294950         2.000000     0.000000     0.000000   \n",
              "75%    3747.000000    438.157059         4.000000     1.000000     1.000000   \n",
              "max    5378.000000  15499.894165         6.000000     1.000000     1.000000   \n",
              "\n",
              "       cleanliness_rating  guest_satisfaction_overall     bedrooms  \\\n",
              "count         9993.000000                 9993.000000  9993.000000   \n",
              "mean             9.175023                   90.645652     1.128790   \n",
              "std              1.166180                   11.510622     0.579477   \n",
              "min              2.000000                   20.000000     0.000000   \n",
              "25%              9.000000                   87.000000     1.000000   \n",
              "50%             10.000000                   94.000000     1.000000   \n",
              "75%             10.000000                   99.000000     1.000000   \n",
              "max             10.000000                  100.000000     8.000000   \n",
              "\n",
              "              dist   metro_dist   attr_index  attr_index_norm   rest_index  \\\n",
              "count  9993.000000  9993.000000  9993.000000      9993.000000  9993.000000   \n",
              "mean      5.326421     1.005547   295.448532        20.537398   627.541611   \n",
              "std       2.712573     1.263926   171.401698        11.914575   389.000019   \n",
              "min       0.040553     0.013875    68.740487         4.778228   140.521722   \n",
              "25%       3.549125     0.320943   177.577991        12.344088   383.553180   \n",
              "50%       4.924121     0.530815   249.276621        17.327889   528.626061   \n",
              "75%       6.836919     1.070676   361.410786        25.122161   770.026639   \n",
              "max      17.321206     9.286229  1438.618956       100.000000  5587.136047   \n",
              "\n",
              "       rest_index_norm          lng          lat  \n",
              "count      9993.000000  9993.000000  9993.000000  \n",
              "mean         11.234105    -0.114830    51.503367  \n",
              "std           6.963803     0.067824     0.031734  \n",
              "min           2.515094    -0.251700    51.414400  \n",
              "25%           6.864961    -0.170680    51.486000  \n",
              "50%           9.465474    -0.118180    51.509710  \n",
              "75%          13.783694    -0.067600    51.525160  \n",
              "max         100.000000     0.120180    51.575820  "
            ],
            "text/html": [
              "\n",
              "  <div id=\"df-69856c62-7e6c-492f-b33a-e7129548d316\" class=\"colab-df-container\">\n",
              "    <div>\n",
              "<style scoped>\n",
              "    .dataframe tbody tr th:only-of-type {\n",
              "        vertical-align: middle;\n",
              "    }\n",
              "\n",
              "    .dataframe tbody tr th {\n",
              "        vertical-align: top;\n",
              "    }\n",
              "\n",
              "    .dataframe thead th {\n",
              "        text-align: right;\n",
              "    }\n",
              "</style>\n",
              "<table border=\"1\" class=\"dataframe\">\n",
              "  <thead>\n",
              "    <tr style=\"text-align: right;\">\n",
              "      <th></th>\n",
              "      <th>Unnamed: 0</th>\n",
              "      <th>realSum</th>\n",
              "      <th>person_capacity</th>\n",
              "      <th>multi</th>\n",
              "      <th>biz</th>\n",
              "      <th>cleanliness_rating</th>\n",
              "      <th>guest_satisfaction_overall</th>\n",
              "      <th>bedrooms</th>\n",
              "      <th>dist</th>\n",
              "      <th>metro_dist</th>\n",
              "      <th>attr_index</th>\n",
              "      <th>attr_index_norm</th>\n",
              "      <th>rest_index</th>\n",
              "      <th>rest_index_norm</th>\n",
              "      <th>lng</th>\n",
              "      <th>lat</th>\n",
              "    </tr>\n",
              "  </thead>\n",
              "  <tbody>\n",
              "    <tr>\n",
              "      <th>count</th>\n",
              "      <td>9993.000000</td>\n",
              "      <td>9993.000000</td>\n",
              "      <td>9993.000000</td>\n",
              "      <td>9993.000000</td>\n",
              "      <td>9993.000000</td>\n",
              "      <td>9993.000000</td>\n",
              "      <td>9993.000000</td>\n",
              "      <td>9993.000000</td>\n",
              "      <td>9993.000000</td>\n",
              "      <td>9993.000000</td>\n",
              "      <td>9993.000000</td>\n",
              "      <td>9993.000000</td>\n",
              "      <td>9993.000000</td>\n",
              "      <td>9993.000000</td>\n",
              "      <td>9993.000000</td>\n",
              "      <td>9993.000000</td>\n",
              "    </tr>\n",
              "    <tr>\n",
              "      <th>mean</th>\n",
              "      <td>2512.390874</td>\n",
              "      <td>362.469256</td>\n",
              "      <td>2.846192</td>\n",
              "      <td>0.274992</td>\n",
              "      <td>0.387872</td>\n",
              "      <td>9.175023</td>\n",
              "      <td>90.645652</td>\n",
              "      <td>1.128790</td>\n",
              "      <td>5.326421</td>\n",
              "      <td>1.005547</td>\n",
              "      <td>295.448532</td>\n",
              "      <td>20.537398</td>\n",
              "      <td>627.541611</td>\n",
              "      <td>11.234105</td>\n",
              "      <td>-0.114830</td>\n",
              "      <td>51.503367</td>\n",
              "    </tr>\n",
              "    <tr>\n",
              "      <th>std</th>\n",
              "      <td>1467.505326</td>\n",
              "      <td>471.357265</td>\n",
              "      <td>1.246235</td>\n",
              "      <td>0.446533</td>\n",
              "      <td>0.487289</td>\n",
              "      <td>1.166180</td>\n",
              "      <td>11.510622</td>\n",
              "      <td>0.579477</td>\n",
              "      <td>2.712573</td>\n",
              "      <td>1.263926</td>\n",
              "      <td>171.401698</td>\n",
              "      <td>11.914575</td>\n",
              "      <td>389.000019</td>\n",
              "      <td>6.963803</td>\n",
              "      <td>0.067824</td>\n",
              "      <td>0.031734</td>\n",
              "    </tr>\n",
              "    <tr>\n",
              "      <th>min</th>\n",
              "      <td>0.000000</td>\n",
              "      <td>54.328653</td>\n",
              "      <td>2.000000</td>\n",
              "      <td>0.000000</td>\n",
              "      <td>0.000000</td>\n",
              "      <td>2.000000</td>\n",
              "      <td>20.000000</td>\n",
              "      <td>0.000000</td>\n",
              "      <td>0.040553</td>\n",
              "      <td>0.013875</td>\n",
              "      <td>68.740487</td>\n",
              "      <td>4.778228</td>\n",
              "      <td>140.521722</td>\n",
              "      <td>2.515094</td>\n",
              "      <td>-0.251700</td>\n",
              "      <td>51.414400</td>\n",
              "    </tr>\n",
              "    <tr>\n",
              "      <th>25%</th>\n",
              "      <td>1249.000000</td>\n",
              "      <td>169.571250</td>\n",
              "      <td>2.000000</td>\n",
              "      <td>0.000000</td>\n",
              "      <td>0.000000</td>\n",
              "      <td>9.000000</td>\n",
              "      <td>87.000000</td>\n",
              "      <td>1.000000</td>\n",
              "      <td>3.549125</td>\n",
              "      <td>0.320943</td>\n",
              "      <td>177.577991</td>\n",
              "      <td>12.344088</td>\n",
              "      <td>383.553180</td>\n",
              "      <td>6.864961</td>\n",
              "      <td>-0.170680</td>\n",
              "      <td>51.486000</td>\n",
              "    </tr>\n",
              "    <tr>\n",
              "      <th>50%</th>\n",
              "      <td>2498.000000</td>\n",
              "      <td>261.294950</td>\n",
              "      <td>2.000000</td>\n",
              "      <td>0.000000</td>\n",
              "      <td>0.000000</td>\n",
              "      <td>10.000000</td>\n",
              "      <td>94.000000</td>\n",
              "      <td>1.000000</td>\n",
              "      <td>4.924121</td>\n",
              "      <td>0.530815</td>\n",
              "      <td>249.276621</td>\n",
              "      <td>17.327889</td>\n",
              "      <td>528.626061</td>\n",
              "      <td>9.465474</td>\n",
              "      <td>-0.118180</td>\n",
              "      <td>51.509710</td>\n",
              "    </tr>\n",
              "    <tr>\n",
              "      <th>75%</th>\n",
              "      <td>3747.000000</td>\n",
              "      <td>438.157059</td>\n",
              "      <td>4.000000</td>\n",
              "      <td>1.000000</td>\n",
              "      <td>1.000000</td>\n",
              "      <td>10.000000</td>\n",
              "      <td>99.000000</td>\n",
              "      <td>1.000000</td>\n",
              "      <td>6.836919</td>\n",
              "      <td>1.070676</td>\n",
              "      <td>361.410786</td>\n",
              "      <td>25.122161</td>\n",
              "      <td>770.026639</td>\n",
              "      <td>13.783694</td>\n",
              "      <td>-0.067600</td>\n",
              "      <td>51.525160</td>\n",
              "    </tr>\n",
              "    <tr>\n",
              "      <th>max</th>\n",
              "      <td>5378.000000</td>\n",
              "      <td>15499.894165</td>\n",
              "      <td>6.000000</td>\n",
              "      <td>1.000000</td>\n",
              "      <td>1.000000</td>\n",
              "      <td>10.000000</td>\n",
              "      <td>100.000000</td>\n",
              "      <td>8.000000</td>\n",
              "      <td>17.321206</td>\n",
              "      <td>9.286229</td>\n",
              "      <td>1438.618956</td>\n",
              "      <td>100.000000</td>\n",
              "      <td>5587.136047</td>\n",
              "      <td>100.000000</td>\n",
              "      <td>0.120180</td>\n",
              "      <td>51.575820</td>\n",
              "    </tr>\n",
              "  </tbody>\n",
              "</table>\n",
              "</div>\n",
              "    <div class=\"colab-df-buttons\">\n",
              "\n",
              "  <div class=\"colab-df-container\">\n",
              "    <button class=\"colab-df-convert\" onclick=\"convertToInteractive('df-69856c62-7e6c-492f-b33a-e7129548d316')\"\n",
              "            title=\"Convert this dataframe to an interactive table.\"\n",
              "            style=\"display:none;\">\n",
              "\n",
              "  <svg xmlns=\"http://www.w3.org/2000/svg\" height=\"24px\" viewBox=\"0 -960 960 960\">\n",
              "    <path d=\"M120-120v-720h720v720H120Zm60-500h600v-160H180v160Zm220 220h160v-160H400v160Zm0 220h160v-160H400v160ZM180-400h160v-160H180v160Zm440 0h160v-160H620v160ZM180-180h160v-160H180v160Zm440 0h160v-160H620v160Z\"/>\n",
              "  </svg>\n",
              "    </button>\n",
              "\n",
              "  <style>\n",
              "    .colab-df-container {\n",
              "      display:flex;\n",
              "      gap: 12px;\n",
              "    }\n",
              "\n",
              "    .colab-df-convert {\n",
              "      background-color: #E8F0FE;\n",
              "      border: none;\n",
              "      border-radius: 50%;\n",
              "      cursor: pointer;\n",
              "      display: none;\n",
              "      fill: #1967D2;\n",
              "      height: 32px;\n",
              "      padding: 0 0 0 0;\n",
              "      width: 32px;\n",
              "    }\n",
              "\n",
              "    .colab-df-convert:hover {\n",
              "      background-color: #E2EBFA;\n",
              "      box-shadow: 0px 1px 2px rgba(60, 64, 67, 0.3), 0px 1px 3px 1px rgba(60, 64, 67, 0.15);\n",
              "      fill: #174EA6;\n",
              "    }\n",
              "\n",
              "    .colab-df-buttons div {\n",
              "      margin-bottom: 4px;\n",
              "    }\n",
              "\n",
              "    [theme=dark] .colab-df-convert {\n",
              "      background-color: #3B4455;\n",
              "      fill: #D2E3FC;\n",
              "    }\n",
              "\n",
              "    [theme=dark] .colab-df-convert:hover {\n",
              "      background-color: #434B5C;\n",
              "      box-shadow: 0px 1px 3px 1px rgba(0, 0, 0, 0.15);\n",
              "      filter: drop-shadow(0px 1px 2px rgba(0, 0, 0, 0.3));\n",
              "      fill: #FFFFFF;\n",
              "    }\n",
              "  </style>\n",
              "\n",
              "    <script>\n",
              "      const buttonEl =\n",
              "        document.querySelector('#df-69856c62-7e6c-492f-b33a-e7129548d316 button.colab-df-convert');\n",
              "      buttonEl.style.display =\n",
              "        google.colab.kernel.accessAllowed ? 'block' : 'none';\n",
              "\n",
              "      async function convertToInteractive(key) {\n",
              "        const element = document.querySelector('#df-69856c62-7e6c-492f-b33a-e7129548d316');\n",
              "        const dataTable =\n",
              "          await google.colab.kernel.invokeFunction('convertToInteractive',\n",
              "                                                    [key], {});\n",
              "        if (!dataTable) return;\n",
              "\n",
              "        const docLinkHtml = 'Like what you see? Visit the ' +\n",
              "          '<a target=\"_blank\" href=https://colab.research.google.com/notebooks/data_table.ipynb>data table notebook</a>'\n",
              "          + ' to learn more about interactive tables.';\n",
              "        element.innerHTML = '';\n",
              "        dataTable['output_type'] = 'display_data';\n",
              "        await google.colab.output.renderOutput(dataTable, element);\n",
              "        const docLink = document.createElement('div');\n",
              "        docLink.innerHTML = docLinkHtml;\n",
              "        element.appendChild(docLink);\n",
              "      }\n",
              "    </script>\n",
              "  </div>\n",
              "\n",
              "\n",
              "<div id=\"df-37e07251-c419-485f-b975-c88174a147fb\">\n",
              "  <button class=\"colab-df-quickchart\" onclick=\"quickchart('df-37e07251-c419-485f-b975-c88174a147fb')\"\n",
              "            title=\"Suggest charts.\"\n",
              "            style=\"display:none;\">\n",
              "\n",
              "<svg xmlns=\"http://www.w3.org/2000/svg\" height=\"24px\"viewBox=\"0 0 24 24\"\n",
              "     width=\"24px\">\n",
              "    <g>\n",
              "        <path d=\"M19 3H5c-1.1 0-2 .9-2 2v14c0 1.1.9 2 2 2h14c1.1 0 2-.9 2-2V5c0-1.1-.9-2-2-2zM9 17H7v-7h2v7zm4 0h-2V7h2v10zm4 0h-2v-4h2v4z\"/>\n",
              "    </g>\n",
              "</svg>\n",
              "  </button>\n",
              "\n",
              "<style>\n",
              "  .colab-df-quickchart {\n",
              "      --bg-color: #E8F0FE;\n",
              "      --fill-color: #1967D2;\n",
              "      --hover-bg-color: #E2EBFA;\n",
              "      --hover-fill-color: #174EA6;\n",
              "      --disabled-fill-color: #AAA;\n",
              "      --disabled-bg-color: #DDD;\n",
              "  }\n",
              "\n",
              "  [theme=dark] .colab-df-quickchart {\n",
              "      --bg-color: #3B4455;\n",
              "      --fill-color: #D2E3FC;\n",
              "      --hover-bg-color: #434B5C;\n",
              "      --hover-fill-color: #FFFFFF;\n",
              "      --disabled-bg-color: #3B4455;\n",
              "      --disabled-fill-color: #666;\n",
              "  }\n",
              "\n",
              "  .colab-df-quickchart {\n",
              "    background-color: var(--bg-color);\n",
              "    border: none;\n",
              "    border-radius: 50%;\n",
              "    cursor: pointer;\n",
              "    display: none;\n",
              "    fill: var(--fill-color);\n",
              "    height: 32px;\n",
              "    padding: 0;\n",
              "    width: 32px;\n",
              "  }\n",
              "\n",
              "  .colab-df-quickchart:hover {\n",
              "    background-color: var(--hover-bg-color);\n",
              "    box-shadow: 0 1px 2px rgba(60, 64, 67, 0.3), 0 1px 3px 1px rgba(60, 64, 67, 0.15);\n",
              "    fill: var(--button-hover-fill-color);\n",
              "  }\n",
              "\n",
              "  .colab-df-quickchart-complete:disabled,\n",
              "  .colab-df-quickchart-complete:disabled:hover {\n",
              "    background-color: var(--disabled-bg-color);\n",
              "    fill: var(--disabled-fill-color);\n",
              "    box-shadow: none;\n",
              "  }\n",
              "\n",
              "  .colab-df-spinner {\n",
              "    border: 2px solid var(--fill-color);\n",
              "    border-color: transparent;\n",
              "    border-bottom-color: var(--fill-color);\n",
              "    animation:\n",
              "      spin 1s steps(1) infinite;\n",
              "  }\n",
              "\n",
              "  @keyframes spin {\n",
              "    0% {\n",
              "      border-color: transparent;\n",
              "      border-bottom-color: var(--fill-color);\n",
              "      border-left-color: var(--fill-color);\n",
              "    }\n",
              "    20% {\n",
              "      border-color: transparent;\n",
              "      border-left-color: var(--fill-color);\n",
              "      border-top-color: var(--fill-color);\n",
              "    }\n",
              "    30% {\n",
              "      border-color: transparent;\n",
              "      border-left-color: var(--fill-color);\n",
              "      border-top-color: var(--fill-color);\n",
              "      border-right-color: var(--fill-color);\n",
              "    }\n",
              "    40% {\n",
              "      border-color: transparent;\n",
              "      border-right-color: var(--fill-color);\n",
              "      border-top-color: var(--fill-color);\n",
              "    }\n",
              "    60% {\n",
              "      border-color: transparent;\n",
              "      border-right-color: var(--fill-color);\n",
              "    }\n",
              "    80% {\n",
              "      border-color: transparent;\n",
              "      border-right-color: var(--fill-color);\n",
              "      border-bottom-color: var(--fill-color);\n",
              "    }\n",
              "    90% {\n",
              "      border-color: transparent;\n",
              "      border-bottom-color: var(--fill-color);\n",
              "    }\n",
              "  }\n",
              "</style>\n",
              "\n",
              "  <script>\n",
              "    async function quickchart(key) {\n",
              "      const quickchartButtonEl =\n",
              "        document.querySelector('#' + key + ' button');\n",
              "      quickchartButtonEl.disabled = true;  // To prevent multiple clicks.\n",
              "      quickchartButtonEl.classList.add('colab-df-spinner');\n",
              "      try {\n",
              "        const charts = await google.colab.kernel.invokeFunction(\n",
              "            'suggestCharts', [key], {});\n",
              "      } catch (error) {\n",
              "        console.error('Error during call to suggestCharts:', error);\n",
              "      }\n",
              "      quickchartButtonEl.classList.remove('colab-df-spinner');\n",
              "      quickchartButtonEl.classList.add('colab-df-quickchart-complete');\n",
              "    }\n",
              "    (() => {\n",
              "      let quickchartButtonEl =\n",
              "        document.querySelector('#df-37e07251-c419-485f-b975-c88174a147fb button');\n",
              "      quickchartButtonEl.style.display =\n",
              "        google.colab.kernel.accessAllowed ? 'block' : 'none';\n",
              "    })();\n",
              "  </script>\n",
              "</div>\n",
              "    </div>\n",
              "  </div>\n"
            ]
          },
          "metadata": {},
          "execution_count": 3
        }
      ]
    },
    {
      "cell_type": "markdown",
      "source": [
        "Separating the data into three groups\n",
        "\n",
        "DF_A is a dist less than 3\n",
        "\n",
        "DF_B is a dist greater than 3 and less than 6\n",
        "\n",
        "DF_C is a dist greeater than 6."
      ],
      "metadata": {
        "id": "4bq6hv95PxZN"
      }
    },
    {
      "cell_type": "code",
      "source": [
        "df_A = df[df['dist'] < 3]\n",
        "df_B = df[(df['dist'] >= 3) & (df['dist'] < 6)]\n",
        "df_C = df[df['dist'] >= 6]\n",
        "\n",
        "df_A.info()\n",
        "df_A.head()\n",
        "df_B.info()\n",
        "df_B.head()\n",
        "df_C.info()\n",
        "df_C.head()"
      ],
      "metadata": {
        "id": "EP9tVpcAKbor",
        "colab": {
          "base_uri": "https://localhost:8080/",
          "height": 1000
        },
        "outputId": "00e79231-fba7-4445-8524-261bd8d433bb"
      },
      "execution_count": 4,
      "outputs": [
        {
          "output_type": "stream",
          "name": "stdout",
          "text": [
            "<class 'pandas.core.frame.DataFrame'>\n",
            "Int64Index: 1779 entries, 1 to 5363\n",
            "Data columns (total 20 columns):\n",
            " #   Column                      Non-Null Count  Dtype  \n",
            "---  ------                      --------------  -----  \n",
            " 0   Unnamed: 0                  1779 non-null   int64  \n",
            " 1   realSum                     1779 non-null   float64\n",
            " 2   room_type                   1779 non-null   object \n",
            " 3   room_shared                 1779 non-null   bool   \n",
            " 4   room_private                1779 non-null   bool   \n",
            " 5   person_capacity             1779 non-null   float64\n",
            " 6   host_is_superhost           1779 non-null   bool   \n",
            " 7   multi                       1779 non-null   int64  \n",
            " 8   biz                         1779 non-null   int64  \n",
            " 9   cleanliness_rating          1779 non-null   float64\n",
            " 10  guest_satisfaction_overall  1779 non-null   float64\n",
            " 11  bedrooms                    1779 non-null   int64  \n",
            " 12  dist                        1779 non-null   float64\n",
            " 13  metro_dist                  1779 non-null   float64\n",
            " 14  attr_index                  1779 non-null   float64\n",
            " 15  attr_index_norm             1779 non-null   float64\n",
            " 16  rest_index                  1779 non-null   float64\n",
            " 17  rest_index_norm             1779 non-null   float64\n",
            " 18  lng                         1779 non-null   float64\n",
            " 19  lat                         1779 non-null   float64\n",
            "dtypes: bool(3), float64(12), int64(4), object(1)\n",
            "memory usage: 255.4+ KB\n",
            "<class 'pandas.core.frame.DataFrame'>\n",
            "Int64Index: 4826 entries, 0 to 5378\n",
            "Data columns (total 20 columns):\n",
            " #   Column                      Non-Null Count  Dtype  \n",
            "---  ------                      --------------  -----  \n",
            " 0   Unnamed: 0                  4826 non-null   int64  \n",
            " 1   realSum                     4826 non-null   float64\n",
            " 2   room_type                   4826 non-null   object \n",
            " 3   room_shared                 4826 non-null   bool   \n",
            " 4   room_private                4826 non-null   bool   \n",
            " 5   person_capacity             4826 non-null   float64\n",
            " 6   host_is_superhost           4826 non-null   bool   \n",
            " 7   multi                       4826 non-null   int64  \n",
            " 8   biz                         4826 non-null   int64  \n",
            " 9   cleanliness_rating          4826 non-null   float64\n",
            " 10  guest_satisfaction_overall  4826 non-null   float64\n",
            " 11  bedrooms                    4826 non-null   int64  \n",
            " 12  dist                        4826 non-null   float64\n",
            " 13  metro_dist                  4826 non-null   float64\n",
            " 14  attr_index                  4826 non-null   float64\n",
            " 15  attr_index_norm             4826 non-null   float64\n",
            " 16  rest_index                  4826 non-null   float64\n",
            " 17  rest_index_norm             4826 non-null   float64\n",
            " 18  lng                         4826 non-null   float64\n",
            " 19  lat                         4826 non-null   float64\n",
            "dtypes: bool(3), float64(12), int64(4), object(1)\n",
            "memory usage: 692.8+ KB\n",
            "<class 'pandas.core.frame.DataFrame'>\n",
            "Int64Index: 3388 entries, 40 to 5377\n",
            "Data columns (total 20 columns):\n",
            " #   Column                      Non-Null Count  Dtype  \n",
            "---  ------                      --------------  -----  \n",
            " 0   Unnamed: 0                  3388 non-null   int64  \n",
            " 1   realSum                     3388 non-null   float64\n",
            " 2   room_type                   3388 non-null   object \n",
            " 3   room_shared                 3388 non-null   bool   \n",
            " 4   room_private                3388 non-null   bool   \n",
            " 5   person_capacity             3388 non-null   float64\n",
            " 6   host_is_superhost           3388 non-null   bool   \n",
            " 7   multi                       3388 non-null   int64  \n",
            " 8   biz                         3388 non-null   int64  \n",
            " 9   cleanliness_rating          3388 non-null   float64\n",
            " 10  guest_satisfaction_overall  3388 non-null   float64\n",
            " 11  bedrooms                    3388 non-null   int64  \n",
            " 12  dist                        3388 non-null   float64\n",
            " 13  metro_dist                  3388 non-null   float64\n",
            " 14  attr_index                  3388 non-null   float64\n",
            " 15  attr_index_norm             3388 non-null   float64\n",
            " 16  rest_index                  3388 non-null   float64\n",
            " 17  rest_index_norm             3388 non-null   float64\n",
            " 18  lng                         3388 non-null   float64\n",
            " 19  lat                         3388 non-null   float64\n",
            "dtypes: bool(3), float64(12), int64(4), object(1)\n",
            "memory usage: 486.4+ KB\n"
          ]
        },
        {
          "output_type": "execute_result",
          "data": {
            "text/plain": [
              "    Unnamed: 0     realSum        room_type  room_shared  room_private  \\\n",
              "40          40  220.372069     Private room        False          True   \n",
              "43          43  181.565888     Private room        False          True   \n",
              "47          47  134.528093     Private room        False          True   \n",
              "56          56  318.681060  Entire home/apt        False         False   \n",
              "65          65  132.176204     Private room        False          True   \n",
              "\n",
              "    person_capacity  host_is_superhost  multi  biz  cleanliness_rating  \\\n",
              "40              4.0              False      0    0                10.0   \n",
              "43              2.0               True      0    0                 9.0   \n",
              "47              2.0              False      1    0                10.0   \n",
              "56              4.0              False      0    1                 8.0   \n",
              "65              2.0               True      1    0                10.0   \n",
              "\n",
              "    guest_satisfaction_overall  bedrooms      dist  metro_dist  attr_index  \\\n",
              "40                        94.0         1  6.856222    0.527527  179.799006   \n",
              "43                        97.0         1  6.325159    2.282961  178.890006   \n",
              "47                        94.0         1  7.295441    1.393765  164.457995   \n",
              "56                        89.0         1  6.894330    0.477830  179.207541   \n",
              "65                        99.0         1  8.668165    1.665469  134.146129   \n",
              "\n",
              "    attr_index_norm  rest_index  rest_index_norm      lng       lat  \n",
              "40        12.498028  419.952321         7.519597 -0.22097  51.48847  \n",
              "43        12.434843  413.167520         7.398109 -0.17769  51.46089  \n",
              "47        11.431658  373.677180         6.691002 -0.22149  51.47904  \n",
              "56        12.456915  421.242015         7.542690 -0.22170  51.48875  \n",
              "65         9.324646  300.270727         5.376598 -0.23248  51.46620  "
            ],
            "text/html": [
              "\n",
              "  <div id=\"df-5d42a5b2-1c71-4606-9546-dac21631b35d\" class=\"colab-df-container\">\n",
              "    <div>\n",
              "<style scoped>\n",
              "    .dataframe tbody tr th:only-of-type {\n",
              "        vertical-align: middle;\n",
              "    }\n",
              "\n",
              "    .dataframe tbody tr th {\n",
              "        vertical-align: top;\n",
              "    }\n",
              "\n",
              "    .dataframe thead th {\n",
              "        text-align: right;\n",
              "    }\n",
              "</style>\n",
              "<table border=\"1\" class=\"dataframe\">\n",
              "  <thead>\n",
              "    <tr style=\"text-align: right;\">\n",
              "      <th></th>\n",
              "      <th>Unnamed: 0</th>\n",
              "      <th>realSum</th>\n",
              "      <th>room_type</th>\n",
              "      <th>room_shared</th>\n",
              "      <th>room_private</th>\n",
              "      <th>person_capacity</th>\n",
              "      <th>host_is_superhost</th>\n",
              "      <th>multi</th>\n",
              "      <th>biz</th>\n",
              "      <th>cleanliness_rating</th>\n",
              "      <th>guest_satisfaction_overall</th>\n",
              "      <th>bedrooms</th>\n",
              "      <th>dist</th>\n",
              "      <th>metro_dist</th>\n",
              "      <th>attr_index</th>\n",
              "      <th>attr_index_norm</th>\n",
              "      <th>rest_index</th>\n",
              "      <th>rest_index_norm</th>\n",
              "      <th>lng</th>\n",
              "      <th>lat</th>\n",
              "    </tr>\n",
              "  </thead>\n",
              "  <tbody>\n",
              "    <tr>\n",
              "      <th>40</th>\n",
              "      <td>40</td>\n",
              "      <td>220.372069</td>\n",
              "      <td>Private room</td>\n",
              "      <td>False</td>\n",
              "      <td>True</td>\n",
              "      <td>4.0</td>\n",
              "      <td>False</td>\n",
              "      <td>0</td>\n",
              "      <td>0</td>\n",
              "      <td>10.0</td>\n",
              "      <td>94.0</td>\n",
              "      <td>1</td>\n",
              "      <td>6.856222</td>\n",
              "      <td>0.527527</td>\n",
              "      <td>179.799006</td>\n",
              "      <td>12.498028</td>\n",
              "      <td>419.952321</td>\n",
              "      <td>7.519597</td>\n",
              "      <td>-0.22097</td>\n",
              "      <td>51.48847</td>\n",
              "    </tr>\n",
              "    <tr>\n",
              "      <th>43</th>\n",
              "      <td>43</td>\n",
              "      <td>181.565888</td>\n",
              "      <td>Private room</td>\n",
              "      <td>False</td>\n",
              "      <td>True</td>\n",
              "      <td>2.0</td>\n",
              "      <td>True</td>\n",
              "      <td>0</td>\n",
              "      <td>0</td>\n",
              "      <td>9.0</td>\n",
              "      <td>97.0</td>\n",
              "      <td>1</td>\n",
              "      <td>6.325159</td>\n",
              "      <td>2.282961</td>\n",
              "      <td>178.890006</td>\n",
              "      <td>12.434843</td>\n",
              "      <td>413.167520</td>\n",
              "      <td>7.398109</td>\n",
              "      <td>-0.17769</td>\n",
              "      <td>51.46089</td>\n",
              "    </tr>\n",
              "    <tr>\n",
              "      <th>47</th>\n",
              "      <td>47</td>\n",
              "      <td>134.528093</td>\n",
              "      <td>Private room</td>\n",
              "      <td>False</td>\n",
              "      <td>True</td>\n",
              "      <td>2.0</td>\n",
              "      <td>False</td>\n",
              "      <td>1</td>\n",
              "      <td>0</td>\n",
              "      <td>10.0</td>\n",
              "      <td>94.0</td>\n",
              "      <td>1</td>\n",
              "      <td>7.295441</td>\n",
              "      <td>1.393765</td>\n",
              "      <td>164.457995</td>\n",
              "      <td>11.431658</td>\n",
              "      <td>373.677180</td>\n",
              "      <td>6.691002</td>\n",
              "      <td>-0.22149</td>\n",
              "      <td>51.47904</td>\n",
              "    </tr>\n",
              "    <tr>\n",
              "      <th>56</th>\n",
              "      <td>56</td>\n",
              "      <td>318.681060</td>\n",
              "      <td>Entire home/apt</td>\n",
              "      <td>False</td>\n",
              "      <td>False</td>\n",
              "      <td>4.0</td>\n",
              "      <td>False</td>\n",
              "      <td>0</td>\n",
              "      <td>1</td>\n",
              "      <td>8.0</td>\n",
              "      <td>89.0</td>\n",
              "      <td>1</td>\n",
              "      <td>6.894330</td>\n",
              "      <td>0.477830</td>\n",
              "      <td>179.207541</td>\n",
              "      <td>12.456915</td>\n",
              "      <td>421.242015</td>\n",
              "      <td>7.542690</td>\n",
              "      <td>-0.22170</td>\n",
              "      <td>51.48875</td>\n",
              "    </tr>\n",
              "    <tr>\n",
              "      <th>65</th>\n",
              "      <td>65</td>\n",
              "      <td>132.176204</td>\n",
              "      <td>Private room</td>\n",
              "      <td>False</td>\n",
              "      <td>True</td>\n",
              "      <td>2.0</td>\n",
              "      <td>True</td>\n",
              "      <td>1</td>\n",
              "      <td>0</td>\n",
              "      <td>10.0</td>\n",
              "      <td>99.0</td>\n",
              "      <td>1</td>\n",
              "      <td>8.668165</td>\n",
              "      <td>1.665469</td>\n",
              "      <td>134.146129</td>\n",
              "      <td>9.324646</td>\n",
              "      <td>300.270727</td>\n",
              "      <td>5.376598</td>\n",
              "      <td>-0.23248</td>\n",
              "      <td>51.46620</td>\n",
              "    </tr>\n",
              "  </tbody>\n",
              "</table>\n",
              "</div>\n",
              "    <div class=\"colab-df-buttons\">\n",
              "\n",
              "  <div class=\"colab-df-container\">\n",
              "    <button class=\"colab-df-convert\" onclick=\"convertToInteractive('df-5d42a5b2-1c71-4606-9546-dac21631b35d')\"\n",
              "            title=\"Convert this dataframe to an interactive table.\"\n",
              "            style=\"display:none;\">\n",
              "\n",
              "  <svg xmlns=\"http://www.w3.org/2000/svg\" height=\"24px\" viewBox=\"0 -960 960 960\">\n",
              "    <path d=\"M120-120v-720h720v720H120Zm60-500h600v-160H180v160Zm220 220h160v-160H400v160Zm0 220h160v-160H400v160ZM180-400h160v-160H180v160Zm440 0h160v-160H620v160ZM180-180h160v-160H180v160Zm440 0h160v-160H620v160Z\"/>\n",
              "  </svg>\n",
              "    </button>\n",
              "\n",
              "  <style>\n",
              "    .colab-df-container {\n",
              "      display:flex;\n",
              "      gap: 12px;\n",
              "    }\n",
              "\n",
              "    .colab-df-convert {\n",
              "      background-color: #E8F0FE;\n",
              "      border: none;\n",
              "      border-radius: 50%;\n",
              "      cursor: pointer;\n",
              "      display: none;\n",
              "      fill: #1967D2;\n",
              "      height: 32px;\n",
              "      padding: 0 0 0 0;\n",
              "      width: 32px;\n",
              "    }\n",
              "\n",
              "    .colab-df-convert:hover {\n",
              "      background-color: #E2EBFA;\n",
              "      box-shadow: 0px 1px 2px rgba(60, 64, 67, 0.3), 0px 1px 3px 1px rgba(60, 64, 67, 0.15);\n",
              "      fill: #174EA6;\n",
              "    }\n",
              "\n",
              "    .colab-df-buttons div {\n",
              "      margin-bottom: 4px;\n",
              "    }\n",
              "\n",
              "    [theme=dark] .colab-df-convert {\n",
              "      background-color: #3B4455;\n",
              "      fill: #D2E3FC;\n",
              "    }\n",
              "\n",
              "    [theme=dark] .colab-df-convert:hover {\n",
              "      background-color: #434B5C;\n",
              "      box-shadow: 0px 1px 3px 1px rgba(0, 0, 0, 0.15);\n",
              "      filter: drop-shadow(0px 1px 2px rgba(0, 0, 0, 0.3));\n",
              "      fill: #FFFFFF;\n",
              "    }\n",
              "  </style>\n",
              "\n",
              "    <script>\n",
              "      const buttonEl =\n",
              "        document.querySelector('#df-5d42a5b2-1c71-4606-9546-dac21631b35d button.colab-df-convert');\n",
              "      buttonEl.style.display =\n",
              "        google.colab.kernel.accessAllowed ? 'block' : 'none';\n",
              "\n",
              "      async function convertToInteractive(key) {\n",
              "        const element = document.querySelector('#df-5d42a5b2-1c71-4606-9546-dac21631b35d');\n",
              "        const dataTable =\n",
              "          await google.colab.kernel.invokeFunction('convertToInteractive',\n",
              "                                                    [key], {});\n",
              "        if (!dataTable) return;\n",
              "\n",
              "        const docLinkHtml = 'Like what you see? Visit the ' +\n",
              "          '<a target=\"_blank\" href=https://colab.research.google.com/notebooks/data_table.ipynb>data table notebook</a>'\n",
              "          + ' to learn more about interactive tables.';\n",
              "        element.innerHTML = '';\n",
              "        dataTable['output_type'] = 'display_data';\n",
              "        await google.colab.output.renderOutput(dataTable, element);\n",
              "        const docLink = document.createElement('div');\n",
              "        docLink.innerHTML = docLinkHtml;\n",
              "        element.appendChild(docLink);\n",
              "      }\n",
              "    </script>\n",
              "  </div>\n",
              "\n",
              "\n",
              "<div id=\"df-0df768e4-8b76-4f93-879f-bfc6e86b867e\">\n",
              "  <button class=\"colab-df-quickchart\" onclick=\"quickchart('df-0df768e4-8b76-4f93-879f-bfc6e86b867e')\"\n",
              "            title=\"Suggest charts.\"\n",
              "            style=\"display:none;\">\n",
              "\n",
              "<svg xmlns=\"http://www.w3.org/2000/svg\" height=\"24px\"viewBox=\"0 0 24 24\"\n",
              "     width=\"24px\">\n",
              "    <g>\n",
              "        <path d=\"M19 3H5c-1.1 0-2 .9-2 2v14c0 1.1.9 2 2 2h14c1.1 0 2-.9 2-2V5c0-1.1-.9-2-2-2zM9 17H7v-7h2v7zm4 0h-2V7h2v10zm4 0h-2v-4h2v4z\"/>\n",
              "    </g>\n",
              "</svg>\n",
              "  </button>\n",
              "\n",
              "<style>\n",
              "  .colab-df-quickchart {\n",
              "      --bg-color: #E8F0FE;\n",
              "      --fill-color: #1967D2;\n",
              "      --hover-bg-color: #E2EBFA;\n",
              "      --hover-fill-color: #174EA6;\n",
              "      --disabled-fill-color: #AAA;\n",
              "      --disabled-bg-color: #DDD;\n",
              "  }\n",
              "\n",
              "  [theme=dark] .colab-df-quickchart {\n",
              "      --bg-color: #3B4455;\n",
              "      --fill-color: #D2E3FC;\n",
              "      --hover-bg-color: #434B5C;\n",
              "      --hover-fill-color: #FFFFFF;\n",
              "      --disabled-bg-color: #3B4455;\n",
              "      --disabled-fill-color: #666;\n",
              "  }\n",
              "\n",
              "  .colab-df-quickchart {\n",
              "    background-color: var(--bg-color);\n",
              "    border: none;\n",
              "    border-radius: 50%;\n",
              "    cursor: pointer;\n",
              "    display: none;\n",
              "    fill: var(--fill-color);\n",
              "    height: 32px;\n",
              "    padding: 0;\n",
              "    width: 32px;\n",
              "  }\n",
              "\n",
              "  .colab-df-quickchart:hover {\n",
              "    background-color: var(--hover-bg-color);\n",
              "    box-shadow: 0 1px 2px rgba(60, 64, 67, 0.3), 0 1px 3px 1px rgba(60, 64, 67, 0.15);\n",
              "    fill: var(--button-hover-fill-color);\n",
              "  }\n",
              "\n",
              "  .colab-df-quickchart-complete:disabled,\n",
              "  .colab-df-quickchart-complete:disabled:hover {\n",
              "    background-color: var(--disabled-bg-color);\n",
              "    fill: var(--disabled-fill-color);\n",
              "    box-shadow: none;\n",
              "  }\n",
              "\n",
              "  .colab-df-spinner {\n",
              "    border: 2px solid var(--fill-color);\n",
              "    border-color: transparent;\n",
              "    border-bottom-color: var(--fill-color);\n",
              "    animation:\n",
              "      spin 1s steps(1) infinite;\n",
              "  }\n",
              "\n",
              "  @keyframes spin {\n",
              "    0% {\n",
              "      border-color: transparent;\n",
              "      border-bottom-color: var(--fill-color);\n",
              "      border-left-color: var(--fill-color);\n",
              "    }\n",
              "    20% {\n",
              "      border-color: transparent;\n",
              "      border-left-color: var(--fill-color);\n",
              "      border-top-color: var(--fill-color);\n",
              "    }\n",
              "    30% {\n",
              "      border-color: transparent;\n",
              "      border-left-color: var(--fill-color);\n",
              "      border-top-color: var(--fill-color);\n",
              "      border-right-color: var(--fill-color);\n",
              "    }\n",
              "    40% {\n",
              "      border-color: transparent;\n",
              "      border-right-color: var(--fill-color);\n",
              "      border-top-color: var(--fill-color);\n",
              "    }\n",
              "    60% {\n",
              "      border-color: transparent;\n",
              "      border-right-color: var(--fill-color);\n",
              "    }\n",
              "    80% {\n",
              "      border-color: transparent;\n",
              "      border-right-color: var(--fill-color);\n",
              "      border-bottom-color: var(--fill-color);\n",
              "    }\n",
              "    90% {\n",
              "      border-color: transparent;\n",
              "      border-bottom-color: var(--fill-color);\n",
              "    }\n",
              "  }\n",
              "</style>\n",
              "\n",
              "  <script>\n",
              "    async function quickchart(key) {\n",
              "      const quickchartButtonEl =\n",
              "        document.querySelector('#' + key + ' button');\n",
              "      quickchartButtonEl.disabled = true;  // To prevent multiple clicks.\n",
              "      quickchartButtonEl.classList.add('colab-df-spinner');\n",
              "      try {\n",
              "        const charts = await google.colab.kernel.invokeFunction(\n",
              "            'suggestCharts', [key], {});\n",
              "      } catch (error) {\n",
              "        console.error('Error during call to suggestCharts:', error);\n",
              "      }\n",
              "      quickchartButtonEl.classList.remove('colab-df-spinner');\n",
              "      quickchartButtonEl.classList.add('colab-df-quickchart-complete');\n",
              "    }\n",
              "    (() => {\n",
              "      let quickchartButtonEl =\n",
              "        document.querySelector('#df-0df768e4-8b76-4f93-879f-bfc6e86b867e button');\n",
              "      quickchartButtonEl.style.display =\n",
              "        google.colab.kernel.accessAllowed ? 'block' : 'none';\n",
              "    })();\n",
              "  </script>\n",
              "</div>\n",
              "    </div>\n",
              "  </div>\n"
            ]
          },
          "metadata": {},
          "execution_count": 4
        }
      ]
    },
    {
      "cell_type": "markdown",
      "source": [
        "After performing this tests for normality we can conclude that a non-parmatric test will preform better and using the median value should give a more accurate result than using the mean value."
      ],
      "metadata": {
        "id": "7Wjp1FCIf_Qs"
      }
    },
    {
      "cell_type": "code",
      "source": [
        "plt.hist(df_A['realSum'], alpha= 0.5, bins = 100)\n",
        "plt.hist(df_B['realSum'], alpha= 0.5, bins = 100)\n",
        "plt.hist(df_C['realSum'], alpha= 0.5, bins = 100)\n",
        "plt.show()\n",
        "\n",
        "print(stats.describe(df_A['realSum']))\n",
        "print(stats.describe(df_B['realSum']))\n",
        "print(stats.describe(df_C['realSum']))"
      ],
      "metadata": {
        "colab": {
          "base_uri": "https://localhost:8080/",
          "height": 482
        },
        "id": "-MpuoVN3O31j",
        "outputId": "58752531-1a46-4305-ae5c-f8f8491d90d8"
      },
      "execution_count": 5,
      "outputs": [
        {
          "output_type": "display_data",
          "data": {
            "text/plain": [
              "<Figure size 640x480 with 1 Axes>"
            ],
            "image/png": "[encoded data removed]"
          },
          "metadata": {}
        },
        {
          "output_type": "stream",
          "name": "stdout",
          "text": [
            "DescribeResult(nobs=1779, minmax=(114.77221947835083, 15499.894164961546), mean=541.9684677290254, variance=574704.3398372146, skewness=11.377919421847169, kurtosis=179.53510332622292)\n",
            "DescribeResult(nobs=4826, minmax=(56.68054281615278, 12929.513864390035), mean=375.9072258737268, variance=199010.4076258886, skewness=17.517012138018178, kurtosis=454.60568091797836)\n",
            "DescribeResult(nobs=3388, minmax=(54.32865307274395, 3874.9735412403866), mean=249.07470354318716, variance=40211.08849797235, skewness=6.316545371711101, kurtosis=81.86750525902175)\n"
          ]
        }
      ]
    },
    {
      "cell_type": "code",
      "source": [
        "sns.boxplot(x= df_A['realSum'])"
      ],
      "metadata": {
        "colab": {
          "base_uri": "https://localhost:8080/",
          "height": 466
        },
        "id": "HQ8H8OSYTEPv",
        "outputId": "9e05ef37-64cc-4f74-d6ee-f36f6ed14ca1"
      },
      "execution_count": 6,
      "outputs": [
        {
          "output_type": "execute_result",
          "data": {
            "text/plain": [
              "<Axes: xlabel='realSum'>"
            ]
          },
          "metadata": {},
          "execution_count": 6
        },
        {
          "output_type": "display_data",
          "data": {
            "text/plain": [
              "<Figure size 640x480 with 1 Axes>"
            ],
            "image/png": "[encoded data removed]"
          },
          "metadata": {}
        }
      ]
    },
    {
      "cell_type": "code",
      "source": [
        "sns.boxplot(x= df_B['realSum'])"
      ],
      "metadata": {
        "colab": {
          "base_uri": "https://localhost:8080/",
          "height": 466
        },
        "id": "AUPne3OaUIri",
        "outputId": "2667d02f-9f26-4456-ef1e-7d1ef82c15bf"
      },
      "execution_count": 7,
      "outputs": [
        {
          "output_type": "execute_result",
          "data": {
            "text/plain": [
              "<Axes: xlabel='realSum'>"
            ]
          },
          "metadata": {},
          "execution_count": 7
        },
        {
          "output_type": "display_data",
          "data": {
            "text/plain": [
              "<Figure size 640x480 with 1 Axes>"
            ],
            "image/png": "[encoded data removed]"
          },
          "metadata": {}
        }
      ]
    },
    {
      "cell_type": "code",
      "source": [
        "sns.boxplot(x= df_C['realSum'])"
      ],
      "metadata": {
        "colab": {
          "base_uri": "https://localhost:8080/",
          "height": 466
        },
        "id": "TIKCodRaUZri",
        "outputId": "791c8df4-d754-4d3b-cc40-99615e60c38d"
      },
      "execution_count": 8,
      "outputs": [
        {
          "output_type": "execute_result",
          "data": {
            "text/plain": [
              "<Axes: xlabel='realSum'>"
            ]
          },
          "metadata": {},
          "execution_count": 8
        },
        {
          "output_type": "display_data",
          "data": {
            "text/plain": [
              "<Figure size 640x480 with 1 Axes>"
            ],
            "image/png": "[encoded data removed]"
          },
          "metadata": {}
        }
      ]
    },
    {
      "cell_type": "markdown",
      "source": [
        "The analysis shows that there is a differnce in real sum price of the data between these three groups with significant and small p-value."
      ],
      "metadata": {
        "id": "EYx3NqWVcDB5"
      }
    },
    {
      "cell_type": "code",
      "source": [
        "stats.kruskal(df_A['realSum'], df_B['realSum'], df_C['realSum'])"
      ],
      "metadata": {
        "colab": {
          "base_uri": "https://localhost:8080/"
        },
        "id": "ow72_Sy3UbAS",
        "outputId": "1a044c55-692c-4333-b2c6-c53dfe3ab672"
      },
      "execution_count": 9,
      "outputs": [
        {
          "output_type": "execute_result",
          "data": {
            "text/plain": [
              "KruskalResult(statistic=1359.9481181066997, pvalue=4.909285799557448e-296)"
            ]
          },
          "metadata": {},
          "execution_count": 9
        }
      ]
    },
    {
      "cell_type": "code",
      "source": [
        "def get_95_ci(array_1, array_2):\n",
        "    sample_1_n = array_1.shape[0]\n",
        "    sample_2_n = array_2.shape[0]\n",
        "    sample_1_mean = array_1.mean()\n",
        "    sample_2_mean = array_2.mean()\n",
        "    sample_1_var = array_1.var()\n",
        "    sample_2_var = array_2.var()\n",
        "    mean_difference = sample_2_mean - sample_1_mean\n",
        "    std_err_difference = math.sqrt((sample_1_var/sample_1_n)+(sample_2_var/sample_2_n))\n",
        "    margin_of_error = 1.96 * std_err_difference\n",
        "    ci_lower = mean_difference - margin_of_error\n",
        "    ci_upper = mean_difference + margin_of_error\n",
        "    return(\"The difference in means at the 95% confidence interval (two-tail) is between \"+str(ci_lower)+\" and \"+str(ci_upper)+\".\")"
      ],
      "metadata": {
        "id": "yMuW2pFFU00w"
      },
      "execution_count": 10,
      "outputs": []
    },
    {
      "cell_type": "markdown",
      "source": [
        "Looking at the 95% confidence interval we can tell that the data could be skewed for these values causing an inaccurate value of the mean. To fix this we can remove outliers from the data or we can run a 95% median confidence interval."
      ],
      "metadata": {
        "id": "giuB0BciOxhz"
      }
    },
    {
      "cell_type": "code",
      "source": [
        "get_95_ci(df_A['realSum'], df_B['realSum'])"
      ],
      "metadata": {
        "colab": {
          "base_uri": "https://localhost:8080/",
          "height": 35
        },
        "id": "3qKp7uy9Yu_j",
        "outputId": "85db087e-4fb8-45a7-964b-9a6431cbff7e"
      },
      "execution_count": 11,
      "outputs": [
        {
          "output_type": "execute_result",
          "data": {
            "text/plain": [
              "'The difference in means at the 95% confidence interval (two-tail) is between -203.47035807209528 and -128.6521256385019.'"
            ],
            "application/vnd.google.colaboratory.intrinsic+json": {
              "type": "string"
            }
          },
          "metadata": {},
          "execution_count": 11
        }
      ]
    },
    {
      "cell_type": "code",
      "source": [
        "get_95_ci(df_B['realSum'], df_C['realSum'])"
      ],
      "metadata": {
        "colab": {
          "base_uri": "https://localhost:8080/",
          "height": 35
        },
        "id": "JR2BS0N7cm9I",
        "outputId": "bb3b696a-3fea-4b6d-d175-0aab90683cde"
      },
      "execution_count": 12,
      "outputs": [
        {
          "output_type": "execute_result",
          "data": {
            "text/plain": [
              "'The difference in means at the 95% confidence interval (two-tail) is between -141.11577458505735 and -112.54927007602195.'"
            ],
            "application/vnd.google.colaboratory.intrinsic+json": {
              "type": "string"
            }
          },
          "metadata": {},
          "execution_count": 12
        }
      ]
    },
    {
      "cell_type": "code",
      "source": [
        "get_95_ci(df_A['realSum'], df_C['realSum'])"
      ],
      "metadata": {
        "colab": {
          "base_uri": "https://localhost:8080/",
          "height": 35
        },
        "id": "eeuZEGfScopI",
        "outputId": "26a676f6-7a21-48f7-eff7-1c2a69ce6243"
      },
      "execution_count": 13,
      "outputs": [
        {
          "output_type": "execute_result",
          "data": {
            "text/plain": [
              "'The difference in means at the 95% confidence interval (two-tail) is between -328.76325156471984 and -257.0242768069566.'"
            ],
            "application/vnd.google.colaboratory.intrinsic+json": {
              "type": "string"
            }
          },
          "metadata": {},
          "execution_count": 13
        }
      ]
    },
    {
      "cell_type": "markdown",
      "source": [
        "Mean Values"
      ],
      "metadata": {
        "id": "cBkr9NogPidH"
      }
    },
    {
      "cell_type": "code",
      "source": [
        "df_A['realSum'].mean()"
      ],
      "metadata": {
        "colab": {
          "base_uri": "https://localhost:8080/"
        },
        "id": "66CpuqM5PTbQ",
        "outputId": "d0e6b85e-9737-47ab-a54f-add339462abd"
      },
      "execution_count": 21,
      "outputs": [
        {
          "output_type": "execute_result",
          "data": {
            "text/plain": [
              "541.9684677290254"
            ]
          },
          "metadata": {},
          "execution_count": 21
        }
      ]
    },
    {
      "cell_type": "code",
      "source": [
        "df_B['realSum'].mean()"
      ],
      "metadata": {
        "colab": {
          "base_uri": "https://localhost:8080/"
        },
        "id": "yu48tWHRPZa_",
        "outputId": "7519c9d4-b50f-4597-8801-dced7c7853b7"
      },
      "execution_count": 22,
      "outputs": [
        {
          "output_type": "execute_result",
          "data": {
            "text/plain": [
              "375.9072258737268"
            ]
          },
          "metadata": {},
          "execution_count": 22
        }
      ]
    },
    {
      "cell_type": "code",
      "source": [
        "df_C['realSum'].mean()"
      ],
      "metadata": {
        "colab": {
          "base_uri": "https://localhost:8080/"
        },
        "id": "ltDiyLNDPZlR",
        "outputId": "e688e9c1-7c1c-44d0-c973-a25e0c89ed91"
      },
      "execution_count": 23,
      "outputs": [
        {
          "output_type": "execute_result",
          "data": {
            "text/plain": [
              "249.07470354318716"
            ]
          },
          "metadata": {},
          "execution_count": 23
        }
      ]
    },
    {
      "cell_type": "markdown",
      "source": [
        "Median Values"
      ],
      "metadata": {
        "id": "QrtYP6KmPkqj"
      }
    },
    {
      "cell_type": "code",
      "source": [
        "df_A['realSum'].median()"
      ],
      "metadata": {
        "colab": {
          "base_uri": "https://localhost:8080/"
        },
        "id": "mBkO9Ib3crvB",
        "outputId": "f903a824-0580-4b7a-e27c-0a9e6bd37d89"
      },
      "execution_count": 14,
      "outputs": [
        {
          "output_type": "execute_result",
          "data": {
            "text/plain": [
              "386.6506738164115"
            ]
          },
          "metadata": {},
          "execution_count": 14
        }
      ]
    },
    {
      "cell_type": "code",
      "source": [
        "df_B['realSum'].median()"
      ],
      "metadata": {
        "id": "RpbP--XxdeLT",
        "colab": {
          "base_uri": "https://localhost:8080/"
        },
        "outputId": "a33e4059-cede-4175-c252-cec05ae88ffa"
      },
      "execution_count": 15,
      "outputs": [
        {
          "output_type": "execute_result",
          "data": {
            "text/plain": [
              "294.9269738234672"
            ]
          },
          "metadata": {},
          "execution_count": 15
        }
      ]
    },
    {
      "cell_type": "code",
      "source": [
        "df_C['realSum'].median()"
      ],
      "metadata": {
        "colab": {
          "base_uri": "https://localhost:8080/"
        },
        "id": "1nhBlnoL1tML",
        "outputId": "eee9b634-5a7d-44e4-ae56-0eddfd0ec0f8"
      },
      "execution_count": 16,
      "outputs": [
        {
          "output_type": "execute_result",
          "data": {
            "text/plain": [
              "191.44382511347868"
            ]
          },
          "metadata": {},
          "execution_count": 16
        }
      ]
    },
    {
      "cell_type": "code",
      "source": [
        "def median_ci(array_1):\n",
        "\n",
        "  sample_1_n = array_1.shape[0]\n",
        "  sample_1_median = array_1.median()\n",
        "  j = (sample_1_n * 0.5) - (1.96 * (math.sqrt(sample_1_n * 0.5 * 0.5)))\n",
        "  k = (sample_1_n * 0.5) + (1.96 * (math.sqrt(sample_1_n * 0.5 * 0.5)))\n",
        "  j = math.ceil(j)\n",
        "  k = math.ceil(k)\n",
        "  df_lower = array_1['realSum'].sort_values().values[j]\n",
        "  df_upper = array_1['realSum'].sort_values().values[k]\n",
        "  return 'The 95% Confidence interval of the median values is between ' + str(df_lower) + ' and ' + str(df_upper) + '.'"
      ],
      "metadata": {
        "id": "QJ_qOk2q1xWn"
      },
      "execution_count": 17,
      "outputs": []
    },
    {
      "cell_type": "code",
      "source": [
        "median_ci(df_A)"
      ],
      "metadata": {
        "colab": {
          "base_uri": "https://localhost:8080/",
          "height": 90
        },
        "id": "bbkA4Pqo4ENj",
        "outputId": "dd894459-ce97-432c-820a-3aea76b9385e"
      },
      "execution_count": 18,
      "outputs": [
        {
          "output_type": "stream",
          "name": "stderr",
          "text": [
            "<ipython-input-17-52e8a6fcc93b>:4: FutureWarning: The default value of numeric_only in DataFrame.median is deprecated. In a future version, it will default to False. In addition, specifying 'numeric_only=None' is deprecated. Select only valid columns or specify the value of numeric_only to silence this warning.\n",
            "  sample_1_median = array_1.median()\n"
          ]
        },
        {
          "output_type": "execute_result",
          "data": {
            "text/plain": [
              "'The 95% Confidence interval of the median values is between 367.1299889461182 and 401.2323902255462.'"
            ],
            "application/vnd.google.colaboratory.intrinsic+json": {
              "type": "string"
            }
          },
          "metadata": {},
          "execution_count": 18
        }
      ]
    },
    {
      "cell_type": "code",
      "source": [
        "median_ci(df_B)"
      ],
      "metadata": {
        "colab": {
          "base_uri": "https://localhost:8080/",
          "height": 90
        },
        "id": "h6I_f8Kr4Mf6",
        "outputId": "e9846937-2f7f-4872-8862-dc1af889c41f"
      },
      "execution_count": 19,
      "outputs": [
        {
          "output_type": "stream",
          "name": "stderr",
          "text": [
            "<ipython-input-17-52e8a6fcc93b>:4: FutureWarning: The default value of numeric_only in DataFrame.median is deprecated. In a future version, it will default to False. In addition, specifying 'numeric_only=None' is deprecated. Select only valid columns or specify the value of numeric_only to silence this warning.\n",
            "  sample_1_median = array_1.median()\n"
          ]
        },
        {
          "output_type": "execute_result",
          "data": {
            "text/plain": [
              "'The 95% Confidence interval of the median values is between 286.9305486958771 and 302.4530210023754.'"
            ],
            "application/vnd.google.colaboratory.intrinsic+json": {
              "type": "string"
            }
          },
          "metadata": {},
          "execution_count": 19
        }
      ]
    },
    {
      "cell_type": "code",
      "source": [
        "median_ci(df_C)"
      ],
      "metadata": {
        "colab": {
          "base_uri": "https://localhost:8080/",
          "height": 90
        },
        "id": "bwCdgVIM41Bt",
        "outputId": "cb73ac6a-af5f-4323-98b9-1ad59f16a11b"
      },
      "execution_count": 20,
      "outputs": [
        {
          "output_type": "stream",
          "name": "stderr",
          "text": [
            "<ipython-input-17-52e8a6fcc93b>:4: FutureWarning: The default value of numeric_only in DataFrame.median is deprecated. In a future version, it will default to False. In addition, specifying 'numeric_only=None' is deprecated. Select only valid columns or specify the value of numeric_only to silence this warning.\n",
            "  sample_1_median = array_1.median()\n"
          ]
        },
        {
          "output_type": "execute_result",
          "data": {
            "text/plain": [
              "'The 95% Confidence interval of the median values is between 185.32891178061573 and 194.0309038312284.'"
            ],
            "application/vnd.google.colaboratory.intrinsic+json": {
              "type": "string"
            }
          },
          "metadata": {},
          "execution_count": 20
        }
      ]
    },
    {
      "cell_type": "markdown",
      "source": [
        "The median confidence interval shows that if you want to save the most money you should get a place 6 to 9 km away. To go deeper we might want to get a uber or lyft dataset to see what the daily price of a ride would be to visit places closer to the city center in London but this will suffice to show the price difference."
      ],
      "metadata": {
        "id": "JKjrovtUcOim"
      }
    }
  ]
}